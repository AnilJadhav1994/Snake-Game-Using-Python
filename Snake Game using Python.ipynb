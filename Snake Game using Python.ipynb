{
 "cells": [
  {
   "cell_type": "markdown",
   "id": "e1054b2b",
   "metadata": {},
   "source": [
    "Step For Implementation\n",
    "\n",
    "\n",
    "1.Installing Pygame,\n",
    "2.Create the Screen,\n",
    "3.Create the Snake,\n",
    "4.Moving the Snake,\n",
    "5.Game Over when Snake hits the boundaries,\n",
    "6.Adding the Food,\n",
    "7.Increasing the Length of the Snake,\n",
    "8.Displaying the Score."
   ]
  },
  {
   "cell_type": "code",
   "execution_count": 1,
   "id": "a4f6082a",
   "metadata": {},
   "outputs": [],
   "source": [
    "# 1. Installing Pygame"
   ]
  },
  {
   "cell_type": "code",
   "execution_count": 2,
   "id": "e316355f",
   "metadata": {
    "scrolled": true
   },
   "outputs": [
    {
     "name": "stdout",
     "output_type": "stream",
     "text": [
      "Requirement already satisfied: pygame in c:\\users\\tjadh\\anaconda3\\lib\\site-packages (2.1.2)\n",
      "Note: you may need to restart the kernel to use updated packages.\n"
     ]
    }
   ],
   "source": [
    "pip install pygame"
   ]
  },
  {
   "cell_type": "code",
   "execution_count": 2,
   "id": "861157da",
   "metadata": {},
   "outputs": [],
   "source": [
    "# 2. Create The Screen"
   ]
  },
  {
   "cell_type": "markdown",
   "id": "e9b05d31",
   "metadata": {},
   "source": [
    "To create the screen using Pygame, you will need to make use of the display.set_mode() function. Also, you will have to make use of the init()  and the quit() methods to initialize and uninitialize everything at the start and the end of the code. The update() method is used to update any changes made to the screen. There is another method i.e flip() that works similarly to the update() function. The difference is that the update() method updates only the changes that are made (however, if no parameters are passed, updates the complete screen) but the flip() method redoes the complete screen again."
   ]
  },
  {
   "cell_type": "code",
   "execution_count": 3,
   "id": "7243c914",
   "metadata": {},
   "outputs": [
    {
     "name": "stdout",
     "output_type": "stream",
     "text": [
      "pygame 2.1.2 (SDL 2.0.18, Python 3.9.12)\n",
      "Hello from the pygame community. https://www.pygame.org/contribute.html\n"
     ]
    }
   ],
   "source": [
    "import pygame\n",
    "pygame.init()\n",
    "dis=pygame.display.set_mode((400,300))\n",
    "pygame.display.update()\n",
    "pygame.quit()\n",
    "quit()"
   ]
  },
  {
   "cell_type": "code",
   "execution_count": null,
   "id": "cf2e20e0",
   "metadata": {},
   "outputs": [
    {
     "name": "stdout",
     "output_type": "stream",
     "text": [
      "pygame 2.1.2 (SDL 2.0.18, Python 3.9.12)\n",
      "Hello from the pygame community. https://www.pygame.org/contribute.html\n",
      "<Event(4352-AudioDeviceAdded {'which': 0, 'iscapture': 0})>\n",
      "<Event(4352-AudioDeviceAdded {'which': 0, 'iscapture': 1})>\n",
      "<Event(32768-ActiveEvent {})>\n",
      "<Event(32774-WindowShown {'window': None})>\n",
      "<Event(32770-VideoExpose {})>\n",
      "<Event(32776-WindowExposed {'window': None})>\n"
     ]
    }
   ],
   "source": [
    "import pygame\n",
    "pygame.init()\n",
    "dis=pygame.display.set_mode((400,300))\n",
    "pygame.display.update()\n",
    "pygame.display.set_caption('Snake game by Anil Jadhav')\n",
    "game_over=False\n",
    "while not game_over:\n",
    "    for event in pygame.event.get():\n",
    "        print(event)   #prints out all the actions that take place on the screen\n",
    " \n",
    "pygame.quit()\n",
    "quit()"
   ]
  },
  {
   "cell_type": "markdown",
   "id": "5325fc01",
   "metadata": {},
   "source": [
    "When you run above code, you will see that the screen that you saw earlier does not quit and also, it returns all the actions that take place over it. I have done that using the event.get() function. Also, I have named the screen as “Snake Game by Edureka” using the display.set_caption() function."
   ]
  },
  {
   "cell_type": "markdown",
   "id": "fd3eb545",
   "metadata": {},
   "source": [
    "Now, you have a screen to play your Snake Game, but when you try to click on the close button, the screen does not close. This is because you have not specified that your screen should exit when you hit that close button. To do that, Pygame provides an event called “QUIT” and it should be used as follows:"
   ]
  },
  {
   "cell_type": "code",
   "execution_count": 1,
   "id": "aa6e7c69",
   "metadata": {},
   "outputs": [
    {
     "name": "stdout",
     "output_type": "stream",
     "text": [
      "pygame 2.1.2 (SDL 2.0.18, Python 3.9.12)\n",
      "Hello from the pygame community. https://www.pygame.org/contribute.html\n"
     ]
    }
   ],
   "source": [
    "import pygame\n",
    "pygame.init()\n",
    "dis=pygame.display.set_mode((400,300))\n",
    "pygame.display.update()\n",
    "pygame.display.set_caption('Snake game by Anil Jadhav')\n",
    "game_over=False\n",
    "while not game_over:\n",
    "    for event in pygame.event.get():\n",
    "        if event.type==pygame.QUIT:\n",
    "            game_over=True\n",
    " \n",
    "pygame.quit()\n",
    "quit()"
   ]
  },
  {
   "cell_type": "code",
   "execution_count": 1,
   "id": "0e6a43d7",
   "metadata": {},
   "outputs": [],
   "source": [
    "# 3.To create the snake"
   ]
  },
  {
   "cell_type": "markdown",
   "id": "9a38784a",
   "metadata": {},
   "source": [
    "To create the snake, I will first initialize a few color variables in order to color the snake, food, screen, etc. The color scheme used in Pygame is RGB i.e “Red Green Blue”. In case you set all these to 0’s, the color will be black and all 255’s will be white. So our snake will actually be a rectangle. To draw rectangles in Pygame, you can make use of a function called draw.rect() which will help yo draw the rectangle with the desired color and size."
   ]
  },
  {
   "cell_type": "code",
   "execution_count": 2,
   "id": "d2e1cdea",
   "metadata": {},
   "outputs": [
    {
     "name": "stdout",
     "output_type": "stream",
     "text": [
      "pygame 2.1.2 (SDL 2.0.18, Python 3.9.12)\n",
      "Hello from the pygame community. https://www.pygame.org/contribute.html\n"
     ]
    }
   ],
   "source": [
    "import pygame\n",
    "pygame.init()\n",
    "dis=pygame.display.set_mode((400,300))\n",
    " \n",
    "pygame.display.set_caption('Snake game by Anil Jadhav')\n",
    " \n",
    "blue=(0,0,255)\n",
    "red=(255,0,0)\n",
    " \n",
    "game_over=False\n",
    "while not game_over:\n",
    "    for event in pygame.event.get():\n",
    "        if event.type==pygame.QUIT:\n",
    "            game_over=True\n",
    "    pygame.draw.rect(dis,blue,[200,150,10,10])\n",
    "    pygame.display.update()\n",
    "pygame.quit()\n",
    "quit()"
   ]
  },
  {
   "cell_type": "code",
   "execution_count": 1,
   "id": "ed4359c3",
   "metadata": {},
   "outputs": [],
   "source": [
    "# 4. Moving The snake"
   ]
  },
  {
   "cell_type": "markdown",
   "id": "a83955b1",
   "metadata": {},
   "source": [
    "Moving the Snake:\n",
    "\n",
    "To move the snake, you will need to use the key events present in the KEYDOWN class of Pygame. The events that are used over here are, K_UP, K_DOWN, K_LEFT, and K_RIGHT to make the snake move up, down, left and right respectively. Also, the display screen is changed from the default black to white using the fill() method.\n",
    "\n",
    "I have created new variables x1_change and y1_change in order to hold the updating values of the x and y coordinates."
   ]
  },
  {
   "cell_type": "code",
   "execution_count": 2,
   "id": "6f32d000",
   "metadata": {},
   "outputs": [
    {
     "name": "stdout",
     "output_type": "stream",
     "text": [
      "pygame 2.1.2 (SDL 2.0.18, Python 3.9.12)\n",
      "Hello from the pygame community. https://www.pygame.org/contribute.html\n"
     ]
    }
   ],
   "source": [
    "import pygame\n",
    " \n",
    "pygame.init()\n",
    " \n",
    "white = (255, 255, 255)\n",
    "black = (0, 0, 0)\n",
    "red = (255, 0, 0)\n",
    " \n",
    "dis = pygame.display.set_mode((800, 600))\n",
    "pygame.display.set_caption('Snake game by Anil Jadhav')\n",
    " \n",
    "game_over = False\n",
    " \n",
    "x1 = 300\n",
    "y1 = 300\n",
    " \n",
    "x1_change = 0       \n",
    "y1_change = 0 \n",
    "clock = pygame.time.Clock()\n",
    " \n",
    "while not game_over:\n",
    "    for event in pygame.event.get():\n",
    "        if event.type == pygame.QUIT:\n",
    "            game_over = True\n",
    "        if event.type == pygame.KEYDOWN:\n",
    "            if event.key == pygame.K_LEFT:\n",
    "                x1_change = -10\n",
    "                y1_change = 0\n",
    "            elif event.key == pygame.K_RIGHT:\n",
    "                x1_change = 10\n",
    "                y1_change = 0\n",
    "            elif event.key == pygame.K_UP:\n",
    "                y1_change = -10\n",
    "                x1_change = 0\n",
    "            elif event.key == pygame.K_DOWN:\n",
    "                y1_change = 10\n",
    "                x1_change = 0\n",
    " \n",
    "    x1 += x1_change\n",
    "    y1 += y1_change\n",
    "    dis.fill(white)\n",
    "    pygame.draw.rect(dis, black, [x1, y1, 10, 10])\n",
    " \n",
    "    pygame.display.update()\n",
    " \n",
    "    clock.tick(30)\n",
    " \n",
    "pygame.quit()\n",
    "quit()"
   ]
  },
  {
   "cell_type": "code",
   "execution_count": 1,
   "id": "1101f1b7",
   "metadata": {},
   "outputs": [],
   "source": [
    "# 5.game over when snake hit the boundaries"
   ]
  },
  {
   "cell_type": "markdown",
   "id": "6aec1a53",
   "metadata": {},
   "source": [
    "In this snake game, if the player hits the boundaries of the screen, then he loses. To specify that, I have made use of an ‘if’ statement that defines the limits for the x and y coordinates of the snake to be less than or equal to that of the screen. Also, make a not over here that I have removed the hardcodes and used variables instead so that it becomes easy in case you want to make any changes to the game later on."
   ]
  },
  {
   "cell_type": "code",
   "execution_count": 2,
   "id": "e5617fbe",
   "metadata": {},
   "outputs": [
    {
     "name": "stdout",
     "output_type": "stream",
     "text": [
      "pygame 2.1.2 (SDL 2.0.18, Python 3.9.12)\n",
      "Hello from the pygame community. https://www.pygame.org/contribute.html\n"
     ]
    }
   ],
   "source": [
    "import pygame\n",
    "import time\n",
    "pygame.init()\n",
    " \n",
    "white = (255, 255, 255)\n",
    "black = (0, 0, 0)\n",
    "red = (255, 0, 0)\n",
    " \n",
    "dis_width = 800\n",
    "dis_height  = 600\n",
    "dis = pygame.display.set_mode((dis_width, dis_width))\n",
    "pygame.display.set_caption('Snake game by Anil Jadhav')\n",
    " \n",
    "game_over = False\n",
    " \n",
    "x1 = dis_width/2\n",
    "y1 = dis_height/2\n",
    " \n",
    "snake_block=10\n",
    " \n",
    "x1_change = 0\n",
    "y1_change = 0\n",
    " \n",
    "clock = pygame.time.Clock()\n",
    "snake_speed=30\n",
    " \n",
    "font_style = pygame.font.SysFont(None, 50)\n",
    " \n",
    "def message(msg,color):\n",
    "    mesg = font_style.render(msg, True, color)\n",
    "    dis.blit(mesg, [dis_width/2, dis_height/2])\n",
    " \n",
    "while not game_over:\n",
    "    for event in pygame.event.get():\n",
    "        if event.type == pygame.QUIT:\n",
    "            game_over = True\n",
    "        if event.type == pygame.KEYDOWN:\n",
    "            if event.key == pygame.K_LEFT:\n",
    "                x1_change = -snake_block\n",
    "                y1_change = 0\n",
    "            elif event.key == pygame.K_RIGHT:\n",
    "                x1_change = snake_block\n",
    "                y1_change = 0\n",
    "            elif event.key == pygame.K_UP:\n",
    "                y1_change = -snake_block\n",
    "                x1_change = 0\n",
    "            elif event.key == pygame.K_DOWN:\n",
    "                y1_change = snake_block\n",
    "                x1_change = 0\n",
    " \n",
    "    if x1 >= dis_width or x1 < 0 or y1 >= dis_height or y1 < 0:\n",
    "        game_over = True\n",
    " \n",
    "    x1 += x1_change\n",
    "    y1 += y1_change\n",
    "    dis.fill(white)\n",
    "    pygame.draw.rect(dis, black, [x1, y1, snake_block, snake_block])\n",
    " \n",
    "    pygame.display.update()\n",
    " \n",
    "    clock.tick(snake_speed)\n",
    " \n",
    "message(\"Get lost\",red)\n",
    "pygame.display.update()\n",
    "time.sleep(2)\n",
    " \n",
    "pygame.quit()\n",
    "quit()"
   ]
  },
  {
   "cell_type": "code",
   "execution_count": null,
   "id": "c10de9f5",
   "metadata": {},
   "outputs": [],
   "source": [
    "# 6.Adding Foods"
   ]
  },
  {
   "cell_type": "markdown",
   "id": "50c7079d",
   "metadata": {},
   "source": [
    "Here, I will be adding some food for the snake and when the snake crosses over that food, I will have a message saying “Yummy!!”. Also, I will be making a small change wherein I will include the options to quit the game or to play again when the player loses."
   ]
  },
  {
   "cell_type": "code",
   "execution_count": 1,
   "id": "54e27326",
   "metadata": {
    "scrolled": true
   },
   "outputs": [
    {
     "name": "stdout",
     "output_type": "stream",
     "text": [
      "pygame 2.1.2 (SDL 2.0.18, Python 3.9.12)\n",
      "Hello from the pygame community. https://www.pygame.org/contribute.html\n"
     ]
    }
   ],
   "source": [
    "import pygame\n",
    "import time\n",
    "import random\n",
    " \n",
    "pygame.init()\n",
    " \n",
    "white = (255, 255, 255)\n",
    "black = (0, 0, 0)\n",
    "red = (255, 0, 0)\n",
    "blue = (0, 0, 255)\n",
    " \n",
    "dis_width = 800\n",
    "dis_height = 600\n",
    " \n",
    "dis = pygame.display.set_mode((dis_width, dis_height))\n",
    "pygame.display.set_caption('Snake game by Anil Jadhav')\n",
    " \n",
    "clock = pygame.time.Clock()\n",
    " \n",
    "snake_block = 10\n",
    "snake_speed = 30\n",
    "font_style = pygame.font.SysFont(None, 30)\n",
    " \n",
    " \n",
    "def message(msg, color):\n",
    "    mesg = font_style.render(msg, True, color)\n",
    "    dis.blit(mesg, [dis_width/3, dis_height/3])\n",
    " \n",
    " \n",
    "def gameLoop():  # creating a function\n",
    "    game_over = False\n",
    "    game_close = False\n",
    " \n",
    "    x1 = dis_width / 2\n",
    "    y1 = dis_height / 2\n",
    " \n",
    "    x1_change = 0\n",
    "    y1_change = 0\n",
    " \n",
    "    foodx = round(random.randrange(0, dis_width - snake_block) / 10.0) * 10.0\n",
    "    foody = round(random.randrange(0, dis_width - snake_block) / 10.0) * 10.0\n",
    " \n",
    "    while not game_over:\n",
    " \n",
    "        while game_close == True:\n",
    "            dis.fill(white)\n",
    "            message(\"You Lost! Press Q-Quit or P-Play Again\", red)\n",
    "            pygame.display.update()\n",
    " \n",
    "            for event in pygame.event.get():\n",
    "                if event.type == pygame.KEYDOWN:\n",
    "                    if event.key == pygame.K_q:\n",
    "                        game_over = True\n",
    "                        game_close = False\n",
    "                    if event.key == pygame.K_p:\n",
    "                        gameLoop()\n",
    " \n",
    "        for event in pygame.event.get():\n",
    "            if event.type == pygame.QUIT:\n",
    "                game_over = True\n",
    "            if event.type == pygame.KEYDOWN:\n",
    "                if event.key == pygame.K_LEFT:\n",
    "                    x1_change = -snake_block\n",
    "                    y1_change = 0\n",
    "                elif event.key == pygame.K_RIGHT:\n",
    "                    x1_change = snake_block\n",
    "                    y1_change = 0\n",
    "                elif event.key == pygame.K_UP:\n",
    "                    y1_change = -snake_block\n",
    "                    x1_change = 0\n",
    "                elif event.key == pygame.K_DOWN:\n",
    "                    y1_change = snake_block\n",
    "                    x1_change = 0\n",
    " \n",
    "        if x1 >= dis_width or x1 < 0 or y1 >= dis_height or y1 < 0:\n",
    "            game_close = True\n",
    " \n",
    "        x1 += x1_change\n",
    "        y1 += y1_change\n",
    "        dis.fill(white)\n",
    "        pygame.draw.rect(dis, blue, [foodx, foody, snake_block, snake_block])\n",
    "        pygame.draw.rect(dis, black, [x1, y1, snake_block, snake_block])\n",
    "        pygame.display.update()\n",
    " \n",
    "        if x1 == foodx and y1 == foody:\n",
    "            print(\"Yummy!!\")\n",
    "        clock.tick(snake_speed)\n",
    " \n",
    "    pygame.quit()\n",
    "    quit()\n",
    " \n",
    " \n",
    "gameLoop()"
   ]
  },
  {
   "cell_type": "code",
   "execution_count": 1,
   "id": "9e6686cf",
   "metadata": {},
   "outputs": [],
   "source": [
    "# 7. Increasing The length Of snake"
   ]
  },
  {
   "cell_type": "markdown",
   "id": "78d47bc1",
   "metadata": {},
   "source": [
    "The following code will increase the size of our sake when it eats the food. Also, if the snake collides with his own body, the game is over and you ill see a message as “You Lost! Press Q-Quit or C-Play Again“. The length of the snake is basically contained in a list and the initial size that is specified in the following code is one block."
   ]
  },
  {
   "cell_type": "code",
   "execution_count": 2,
   "id": "7703cb95",
   "metadata": {},
   "outputs": [
    {
     "name": "stdout",
     "output_type": "stream",
     "text": [
      "pygame 2.1.2 (SDL 2.0.18, Python 3.9.12)\n",
      "Hello from the pygame community. https://www.pygame.org/contribute.html\n"
     ]
    }
   ],
   "source": [
    "import pygame\n",
    "import time\n",
    "import random\n",
    " \n",
    "pygame.init()\n",
    " \n",
    "white = (255, 255, 255)\n",
    "yellow = (255, 255, 102)\n",
    "black = (0, 0, 0)\n",
    "red = (213, 50, 80)\n",
    "green = (0, 255, 0)\n",
    "blue = (50, 153, 213)\n",
    " \n",
    "dis_width = 600\n",
    "dis_height = 400\n",
    " \n",
    "dis = pygame.display.set_mode((dis_width, dis_height))\n",
    "pygame.display.set_caption('Snake game by Anil Jadhav')\n",
    " \n",
    "clock = pygame.time.Clock()\n",
    " \n",
    "snake_block = 10\n",
    "snake_speed = 15\n",
    " \n",
    "font_style = pygame.font.SysFont(\"bahnschrift\", 25)\n",
    "score_font = pygame.font.SysFont(\"comicsansms\", 35)\n",
    " \n",
    "def our_snake(snake_block, snake_list):\n",
    "    for x in snake_list:\n",
    "        pygame.draw.rect(dis, black, [x[0], x[1], snake_block, snake_block])\n",
    " \n",
    " \n",
    "def message(msg, color):\n",
    "    mesg = font_style.render(msg, True, color)\n",
    "    dis.blit(mesg, [dis_width / 6, dis_height / 3])\n",
    " \n",
    " \n",
    "def gameLoop():\n",
    "    game_over = False\n",
    "    game_close = False\n",
    " \n",
    "    x1 = dis_width / 2\n",
    "    y1 = dis_height / 2\n",
    " \n",
    "    x1_change = 0\n",
    "    y1_change = 0\n",
    " \n",
    "    snake_List = []\n",
    "    Length_of_snake = 1\n",
    " \n",
    "    foodx = round(random.randrange(0, dis_width - snake_block) / 10.0) * 10.0\n",
    "    foody = round(random.randrange(0, dis_height - snake_block) / 10.0) * 10.0\n",
    " \n",
    "    while not game_over:\n",
    " \n",
    "        while game_close == True:\n",
    "            dis.fill(blue)\n",
    "            message(\"You Lost! Press P-Play Again or Q-Quit\", red)\n",
    " \n",
    "            pygame.display.update()\n",
    " \n",
    "            for event in pygame.event.get():\n",
    "                if event.type == pygame.KEYDOWN:\n",
    "                    if event.key == pygame.K_q:\n",
    "                        game_over = True\n",
    "                        game_close = False\n",
    "                    if event.key == pygame.K_p:\n",
    "                        gameLoop()\n",
    " \n",
    "        for event in pygame.event.get():\n",
    "            if event.type == pygame.QUIT:\n",
    "                game_over = True\n",
    "            if event.type == pygame.KEYDOWN:\n",
    "                if event.key == pygame.K_LEFT:\n",
    "                    x1_change = -snake_block\n",
    "                    y1_change = 0\n",
    "                elif event.key == pygame.K_RIGHT:\n",
    "                    x1_change = snake_block\n",
    "                    y1_change = 0\n",
    "                elif event.key == pygame.K_UP:\n",
    "                    y1_change = -snake_block\n",
    "                    x1_change = 0\n",
    "                elif event.key == pygame.K_DOWN:\n",
    "                    y1_change = snake_block\n",
    "                    x1_change = 0\n",
    " \n",
    "        if x1 >= dis_width or x1 < 0 or y1 >= dis_height or y1 < 0:\n",
    "            game_close = True\n",
    "        x1 += x1_change\n",
    "        y1 += y1_change\n",
    "        dis.fill(blue)\n",
    "        pygame.draw.rect(dis, green, [foodx, foody, snake_block, snake_block])\n",
    "        snake_Head = []\n",
    "        snake_Head.append(x1)\n",
    "        snake_Head.append(y1)\n",
    "        snake_List.append(snake_Head)\n",
    "        if len(snake_List) > Length_of_snake:\n",
    "            del snake_List[0]\n",
    " \n",
    "        for x in snake_List[:-1]:\n",
    "            if x == snake_Head:\n",
    "                game_close = True\n",
    " \n",
    "        our_snake(snake_block, snake_List)\n",
    " \n",
    " \n",
    "        pygame.display.update()\n",
    " \n",
    "        if x1 == foodx and y1 == foody:\n",
    "            foodx = round(random.randrange(0, dis_width - snake_block) / 10.0) * 10.0\n",
    "            foody = round(random.randrange(0, dis_height - snake_block) / 10.0) * 10.0\n",
    "            Length_of_snake += 1\n",
    " \n",
    "        clock.tick(snake_speed)\n",
    " \n",
    "    pygame.quit()\n",
    "    quit()\n",
    " \n",
    " \n",
    "gameLoop()"
   ]
  },
  {
   "cell_type": "code",
   "execution_count": null,
   "id": "94660d3a",
   "metadata": {},
   "outputs": [],
   "source": [
    "# 8. Display the score"
   ]
  },
  {
   "cell_type": "markdown",
   "id": "640b8fda",
   "metadata": {},
   "source": [
    "Last but definitely not the least, you will need to display the score of the player. To do this, I have created a new function as “Your_score”. This function will display the length of the snake subtracted by 1 because that is the initial size of the snake."
   ]
  },
  {
   "cell_type": "code",
   "execution_count": 1,
   "id": "e2989144",
   "metadata": {},
   "outputs": [
    {
     "name": "stdout",
     "output_type": "stream",
     "text": [
      "pygame 2.1.2 (SDL 2.0.18, Python 3.9.12)\n",
      "Hello from the pygame community. https://www.pygame.org/contribute.html\n"
     ]
    }
   ],
   "source": [
    "import pygame\n",
    "import time\n",
    "import random\n",
    " \n",
    "pygame.init()\n",
    " \n",
    "white = (255, 255, 255)\n",
    "yellow = (255, 255, 102)\n",
    "black = (0, 0, 0)\n",
    "red = (213, 50, 80)\n",
    "green = (0, 255, 0)\n",
    "blue = (50, 153, 213)\n",
    " \n",
    "dis_width = 600\n",
    "dis_height = 400\n",
    " \n",
    "dis = pygame.display.set_mode((dis_width, dis_height))\n",
    "pygame.display.set_caption('Snake game by Anil Jadhav')\n",
    " \n",
    "clock = pygame.time.Clock()\n",
    " \n",
    "snake_block = 10\n",
    "snake_speed = 15\n",
    " \n",
    "font_style = pygame.font.SysFont(\"bahnschrift\", 25)\n",
    "score_font = pygame.font.SysFont(\"comicsansms\", 35)\n",
    " \n",
    " \n",
    "def Your_score(score):\n",
    "    value = score_font.render(\"Your Score: \" + str(score), True, yellow)\n",
    "    dis.blit(value, [0, 0])\n",
    " \n",
    " \n",
    " \n",
    "def our_snake(snake_block, snake_list):\n",
    "    for x in snake_list:\n",
    "        pygame.draw.rect(dis, black, [x[0], x[1], snake_block, snake_block])\n",
    " \n",
    " \n",
    "def message(msg, color):\n",
    "    mesg = font_style.render(msg, True, color)\n",
    "    dis.blit(mesg, [dis_width / 6, dis_height / 3])\n",
    " \n",
    " \n",
    "def gameLoop():\n",
    "    game_over = False\n",
    "    game_close = False\n",
    " \n",
    "    x1 = dis_width / 2\n",
    "    y1 = dis_height / 2\n",
    " \n",
    "    x1_change = 0\n",
    "    y1_change = 0\n",
    " \n",
    "    snake_List = []\n",
    "    Length_of_snake = 1\n",
    " \n",
    "    foodx = round(random.randrange(0, dis_width - snake_block) / 10.0) * 10.0\n",
    "    foody = round(random.randrange(0, dis_height - snake_block) / 10.0) * 10.0\n",
    " \n",
    "    while not game_over:\n",
    " \n",
    "        while game_close == True:\n",
    "            dis.fill(blue)\n",
    "            message(\"You Lost! Press P-Play Again or Q-Quit\", red)\n",
    "            Your_score(Length_of_snake - 1)\n",
    "            pygame.display.update()\n",
    " \n",
    "            for event in pygame.event.get():\n",
    "                if event.type == pygame.KEYDOWN:\n",
    "                    if event.key == pygame.K_q:\n",
    "                        game_over = True\n",
    "                        game_close = False\n",
    "                    if event.key == pygame.K_p:\n",
    "                        gameLoop()\n",
    " \n",
    "        for event in pygame.event.get():\n",
    "            if event.type == pygame.QUIT:\n",
    "                game_over = True\n",
    "            if event.type == pygame.KEYDOWN:\n",
    "                if event.key == pygame.K_LEFT:\n",
    "                    x1_change = -snake_block\n",
    "                    y1_change = 0\n",
    "                elif event.key == pygame.K_RIGHT:\n",
    "                    x1_change = snake_block\n",
    "                    y1_change = 0\n",
    "                elif event.key == pygame.K_UP:\n",
    "                    y1_change = -snake_block\n",
    "                    x1_change = 0\n",
    "                elif event.key == pygame.K_DOWN:\n",
    "                    y1_change = snake_block\n",
    "                    x1_change = 0\n",
    " \n",
    "        if x1 >= dis_width or x1 < 0 or y1 >= dis_height or y1 < 0:\n",
    "            game_close = True\n",
    "        x1 += x1_change\n",
    "        y1 += y1_change\n",
    "        dis.fill(blue)\n",
    "        pygame.draw.rect(dis, green, [foodx, foody, snake_block, snake_block])\n",
    "        snake_Head = []\n",
    "        snake_Head.append(x1)\n",
    "        snake_Head.append(y1)\n",
    "        snake_List.append(snake_Head)\n",
    "        if len(snake_List) > Length_of_snake:\n",
    "            del snake_List[0]\n",
    " \n",
    "        for x in snake_List[:-1]:\n",
    "            if x == snake_Head:\n",
    "                game_close = True\n",
    " \n",
    "        our_snake(snake_block, snake_List)\n",
    "        Your_score(Length_of_snake - 1)\n",
    " \n",
    "        pygame.display.update()\n",
    " \n",
    "        if x1 == foodx and y1 == foody:\n",
    "            foodx = round(random.randrange(0, dis_width - snake_block) / 10.0) * 10.0\n",
    "            foody = round(random.randrange(0, dis_height - snake_block) / 10.0) * 10.0\n",
    "            Length_of_snake += 1\n",
    " \n",
    "        clock.tick(snake_speed)\n",
    " \n",
    "    pygame.quit()\n",
    "    quit()\n",
    " \n",
    " \n",
    "gameLoop()"
   ]
  },
  {
   "cell_type": "code",
   "execution_count": null,
   "id": "cc7c60ce",
   "metadata": {},
   "outputs": [],
   "source": []
  },
  {
   "cell_type": "code",
   "execution_count": null,
   "id": "24b6e239",
   "metadata": {},
   "outputs": [],
   "source": []
  }
 ],
 "metadata": {
  "kernelspec": {
   "display_name": "Python 3 (ipykernel)",
   "language": "python",
   "name": "python3"
  },
  "language_info": {
   "codemirror_mode": {
    "name": "ipython",
    "version": 3
   },
   "file_extension": ".py",
   "mimetype": "text/x-python",
   "name": "python",
   "nbconvert_exporter": "python",
   "pygments_lexer": "ipython3",
   "version": "3.9.12"
  }
 },
 "nbformat": 4,
 "nbformat_minor": 5
}
